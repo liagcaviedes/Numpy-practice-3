{
 "cells": [
  {
   "cell_type": "markdown",
   "metadata": {},
   "source": [
    "# Ejercicios de practica Numpy"
   ]
  },
  {
   "cell_type": "markdown",
   "metadata": {},
   "source": [
    "\n",
    "Crear un array de ceros\n"
   ]
  },
  {
   "cell_type": "code",
   "execution_count": 1,
   "metadata": {},
   "outputs": [],
   "source": [
    "import numpy as np"
   ]
  },
  {
   "cell_type": "markdown",
   "metadata": {},
   "source": [
    "Ejercicio: Crea un array de una dimensión con 10 ceros.\n",
    "Hint: Usa np.zeros().\n"
   ]
  },
  {
   "cell_type": "code",
   "execution_count": 2,
   "metadata": {},
   "outputs": [
    {
     "data": {
      "text/plain": [
       "array([0., 0., 0., 0., 0., 0., 0., 0., 0., 0.])"
      ]
     },
     "execution_count": 2,
     "metadata": {},
     "output_type": "execute_result"
    }
   ],
   "source": [
    "np.zeros(10)"
   ]
  },
  {
   "cell_type": "markdown",
   "metadata": {},
   "source": [
    "Crear un array de unos\n",
    "Ejercicio: Crea un array de una dimensión con 10 unos."
   ]
  },
  {
   "cell_type": "code",
   "execution_count": 3,
   "metadata": {},
   "outputs": [
    {
     "data": {
      "text/plain": [
       "array([1., 1., 1., 1., 1., 1., 1., 1., 1., 1.])"
      ]
     },
     "execution_count": 3,
     "metadata": {},
     "output_type": "execute_result"
    }
   ],
   "source": [
    "np.zeros(10)+1"
   ]
  },
  {
   "cell_type": "markdown",
   "metadata": {},
   "source": [
    "Crear un array de valores enteros del 10 al 49. \n",
    "\n",
    "Ejercicio: Crea un array que contenga los números enteros del 10 al 49, inclusive.\n",
    "Hint: Usa np.arange()."
   ]
  },
  {
   "cell_type": "code",
   "execution_count": 4,
   "metadata": {},
   "outputs": [
    {
     "data": {
      "text/plain": [
       "array([10, 11, 12, 13, 14, 15, 16, 17, 18, 19, 20, 21, 22, 23, 24, 25, 26,\n",
       "       27, 28, 29, 30, 31, 32, 33, 34, 35, 36, 37, 38, 39, 40, 41, 42, 43,\n",
       "       44, 45, 46, 47, 48, 49])"
      ]
     },
     "execution_count": 4,
     "metadata": {},
     "output_type": "execute_result"
    }
   ],
   "source": [
    "np.arange(10,50)"
   ]
  },
  {
   "cell_type": "markdown",
   "metadata": {},
   "source": [
    "Invertir un array\n",
    "Ejercicio: Invierte el array del ejercicio anterior (10 al 49).\n"
   ]
  },
  {
   "cell_type": "code",
   "execution_count": 5,
   "metadata": {},
   "outputs": [
    {
     "data": {
      "text/plain": [
       "array([49, 48, 47, 46, 45, 44, 43, 42, 41, 40, 39, 38, 37, 36, 35, 34, 33,\n",
       "       32, 31, 30, 29, 28, 27, 26, 25, 24, 23, 22, 21, 20, 19, 18, 17, 16,\n",
       "       15, 14, 13, 12, 11, 10])"
      ]
     },
     "execution_count": 5,
     "metadata": {},
     "output_type": "execute_result"
    }
   ],
   "source": [
    "np.arange(10,50)[::-1]"
   ]
  },
  {
   "cell_type": "markdown",
   "metadata": {},
   "source": [
    "Crear una matriz 3x3 con valores del 0 al 8\n",
    "Ejercicio: Crea una matriz 3x3 con valores que van del 0 al 8.\n",
    "Hint: Usa np.arange() y .reshape().\n",
    "\n"
   ]
  },
  {
   "cell_type": "code",
   "execution_count": 6,
   "metadata": {},
   "outputs": [
    {
     "data": {
      "text/plain": [
       "array([[0, 1, 2],\n",
       "       [3, 4, 5],\n",
       "       [6, 7, 8]])"
      ]
     },
     "execution_count": 6,
     "metadata": {},
     "output_type": "execute_result"
    }
   ],
   "source": [
    "np.arange(0,9).reshape(3,3)"
   ]
  },
  {
   "cell_type": "markdown",
   "metadata": {},
   "source": [
    "Encontrar los índices de los elementos diferentes de cero\n",
    "Ejercicio: Dado el array [1, 2, 0, 0, 4, 0], encuentra los índices de los elementos que no son cero.\n",
    "Hint: Usa np.nonzero()."
   ]
  },
  {
   "cell_type": "code",
   "execution_count": 7,
   "metadata": {},
   "outputs": [
    {
     "data": {
      "text/plain": [
       "array([1, 2, 0, 0, 4, 0])"
      ]
     },
     "execution_count": 7,
     "metadata": {},
     "output_type": "execute_result"
    }
   ],
   "source": [
    "arr = np.array([1,2,0,0,4,0])\n",
    "arr\n"
   ]
  },
  {
   "cell_type": "code",
   "execution_count": 8,
   "metadata": {},
   "outputs": [
    {
     "data": {
      "text/plain": [
       "(array([0, 1, 4]),)"
      ]
     },
     "execution_count": 8,
     "metadata": {},
     "output_type": "execute_result"
    }
   ],
   "source": [
    "nonzero = np.nonzero(arr)\n",
    "nonzero"
   ]
  },
  {
   "cell_type": "markdown",
   "metadata": {},
   "source": [
    "Crear una matriz identidad\n",
    "Ejercicio: Crea una matriz identidad de 3x3.\n",
    "Hint: Usa np.eye() o np.identity().\n"
   ]
  },
  {
   "cell_type": "code",
   "execution_count": 9,
   "metadata": {},
   "outputs": [
    {
     "data": {
      "text/plain": [
       "array([[1., 0., 0.],\n",
       "       [0., 1., 0.],\n",
       "       [0., 0., 1.]])"
      ]
     },
     "execution_count": 9,
     "metadata": {},
     "output_type": "execute_result"
    }
   ],
   "source": [
    "np.eye(3)"
   ]
  },
  {
   "cell_type": "markdown",
   "metadata": {},
   "source": [
    "Crear un array de números aleatorios\n",
    "Ejercicio: Crea un array de 10 números aleatorios entre 0 y 1.\n",
    "Hint: Usa np.random.random().\n"
   ]
  },
  {
   "cell_type": "code",
   "execution_count": 10,
   "metadata": {},
   "outputs": [
    {
     "data": {
      "text/plain": [
       "array([0.28281298, 0.31298276, 0.8877193 , 0.3382657 , 0.98345995,\n",
       "       0.13240233, 0.46629191, 0.27414456, 0.0682831 , 0.61487614])"
      ]
     },
     "execution_count": 10,
     "metadata": {},
     "output_type": "execute_result"
    }
   ],
   "source": [
    "np.random.random(10)"
   ]
  },
  {
   "cell_type": "markdown",
   "metadata": {},
   "source": [
    "Crear una matriz aleatoria y encontrar los valores mínimo y máximo\n",
    "Ejercicio: Crea una matriz 4x4 con valores aleatorios y encuentra el valor mínimo y el máximo.\n",
    "Hint: Usa np.random.random() y np.min()/np.max().\n",
    "\n"
   ]
  },
  {
   "cell_type": "code",
   "execution_count": 11,
   "metadata": {},
   "outputs": [
    {
     "data": {
      "text/plain": [
       "array([[ 1.,  2.,  3.,  4.],\n",
       "       [ 5.,  6.,  7.,  8.],\n",
       "       [ 9., 10., 11., 12.],\n",
       "       [13., 14., 15., 16.]])"
      ]
     },
     "execution_count": 11,
     "metadata": {},
     "output_type": "execute_result"
    }
   ],
   "source": [
    "np.linspace(1,16,16).reshape(4,4)"
   ]
  },
  {
   "cell_type": "code",
   "execution_count": 12,
   "metadata": {},
   "outputs": [
    {
     "name": "stdout",
     "output_type": "stream",
     "text": [
      "0.03246720358132049\n",
      "0.9231078960035821\n"
     ]
    }
   ],
   "source": [
    "mat = np.random.random(16).reshape(4,4)\n",
    "print(mat.min())\n",
    "print(mat.max())\n",
    "media = np.mean(mat)"
   ]
  },
  {
   "cell_type": "markdown",
   "metadata": {},
   "source": [
    "Calcular la media de un array\n",
    "Ejercicio: Crea un array de 10 números aleatorios y calcula su media.\n",
    "Hint: Usa np.mean().\n"
   ]
  },
  {
   "cell_type": "code",
   "execution_count": 13,
   "metadata": {},
   "outputs": [
    {
     "data": {
      "text/plain": [
       "np.float64(14.5)"
      ]
     },
     "execution_count": 13,
     "metadata": {},
     "output_type": "execute_result"
    }
   ],
   "source": [
    "array10 = np.arange(10, 20)\n",
    "array10\n",
    "np.mean(array10)"
   ]
  },
  {
   "cell_type": "markdown",
   "metadata": {},
   "source": [
    "Nivel Avanzado\n",
    "Crear una matriz 5x5 con valores de 1 a 25\n",
    "Ejercicio: Crea una matriz 5x5 que contenga valores enteros del 1 al 25.\n",
    "Hint: Usa np.arange() y .reshape().\n",
    "\n"
   ]
  },
  {
   "cell_type": "code",
   "execution_count": 14,
   "metadata": {},
   "outputs": [
    {
     "data": {
      "text/plain": [
       "array([[ 1,  2,  3,  4,  5],\n",
       "       [ 6,  7,  8,  9, 10],\n",
       "       [11, 12, 13, 14, 15],\n",
       "       [16, 17, 18, 19, 20],\n",
       "       [21, 22, 23, 24, 25]])"
      ]
     },
     "execution_count": 14,
     "metadata": {},
     "output_type": "execute_result"
    }
   ],
   "source": [
    "matriz = np.arange(1,26).reshape(5,5)\n",
    "matriz"
   ]
  },
  {
   "cell_type": "markdown",
   "metadata": {},
   "source": [
    "Extraer una submatriz de una matriz 5x5\n",
    "Ejercicio: A partir de la matriz del ejercicio anterior, extrae la submatriz central 3x3.\n",
    "Hint: Usa slicing."
   ]
  },
  {
   "cell_type": "code",
   "execution_count": 15,
   "metadata": {},
   "outputs": [
    {
     "data": {
      "text/plain": [
       "array([[ 7,  8,  9],\n",
       "       [12, 13, 14],\n",
       "       [17, 18, 19]])"
      ]
     },
     "execution_count": 15,
     "metadata": {},
     "output_type": "execute_result"
    }
   ],
   "source": [
    "submatriz = matriz[1:4, 1:4]\n",
    "submatriz"
   ]
  },
  {
   "cell_type": "markdown",
   "metadata": {},
   "source": [
    "Normalizar una matriz\n",
    "Ejercicio: Crea una matriz de valores aleatorios y normalízala para que sus valores estén entre 0 y 1.\n",
    "Hint: Usa (matriz - np.min()) / (np.max() - np.min()).\n"
   ]
  },
  {
   "cell_type": "code",
   "execution_count": 16,
   "metadata": {},
   "outputs": [
    {
     "name": "stdout",
     "output_type": "stream",
     "text": [
      "[[ -0.          -0.04347826  -0.09090909  -0.14285714  -0.2       ]\n",
      " [ -0.26315789  -0.33333333  -0.41176471  -0.5         -0.6       ]\n",
      " [ -0.71428571  -0.84615385  -1.          -1.18181818  -1.4       ]\n",
      " [ -1.66666667  -2.          -2.42857143  -3.          -3.8       ]\n",
      " [ -5.          -7.         -11.         -23.                  inf]]\n"
     ]
    },
    {
     "name": "stderr",
     "output_type": "stream",
     "text": [
      "/var/folders/3k/lkz67hk967s8dvyhg9zrqdz80000gn/T/ipykernel_7933/898278133.py:3: RuntimeWarning: divide by zero encountered in divide\n",
      "  matriz_normalizada = (matriz-min) / (matriz-max)\n"
     ]
    }
   ],
   "source": [
    "min = matriz.min()\n",
    "max = matriz.max ()\n",
    "matriz_normalizada = (matriz-min) / (matriz-max)\n",
    "print(matriz_normalizada)"
   ]
  },
  {
   "cell_type": "markdown",
   "metadata": {},
   "source": [
    "Multiplicación de matrices\n",
    "Ejercicio: Crea dos matrices 3x3 y realiza su multiplicación (no multiplicación elemento a elemento).\n",
    "Hint: Usa np.dot() o @.\n"
   ]
  },
  {
   "cell_type": "code",
   "execution_count": 17,
   "metadata": {},
   "outputs": [
    {
     "name": "stdout",
     "output_type": "stream",
     "text": [
      "[[0.17922122 0.02957334 0.93747249]\n",
      " [0.50036094 0.72611817 0.69819639]\n",
      " [0.92464339 0.36033535 0.02120767]]\n",
      "[[20 21 22]\n",
      " [23 24 25]\n",
      " [26 27 28]]\n",
      "[[28.63889597 29.78516302 30.93143007]\n",
      " [44.8610429  46.78571841 48.71039391]\n",
      " [27.33198017 28.63816657 29.94435298]]\n"
     ]
    }
   ],
   "source": [
    "matriz1 = np.random.random(9).reshape(3,3)\n",
    "matriz2 = np.arange(20,29).reshape(3,3)\n",
    "print(matriz1)\n",
    "print(matriz2)\n",
    "\n",
    "multiplicacion = np.dot(matriz1, matriz2)\n",
    "print(multiplicacion)"
   ]
  },
  {
   "cell_type": "markdown",
   "metadata": {},
   "source": [
    "Encontrar el valor más cercano en un array\n",
    "Ejercicio: Dado un array de 100 números aleatorios y un número aleatorio, encuentra el valor en el array que sea más cercano a ese número.\n",
    "Hint: Usa np.abs() y np.argmin()."
   ]
  },
  {
   "cell_type": "code",
   "execution_count": 18,
   "metadata": {},
   "outputs": [
    {
     "name": "stdout",
     "output_type": "stream",
     "text": [
      "[33.80401279 75.91670576 47.1535275  19.59892542 58.12150469 77.75793893\n",
      " 43.81253278 75.82230902  1.27813018 47.73093708 89.94218432 54.83773321\n",
      "  5.29039007 68.68373277 91.40011284 35.21774402 16.46497779  5.70867462\n",
      "  3.37164575 97.45333776  5.07384676 94.93550099 53.97170682 28.20850063\n",
      "  3.04203858 37.39686212 50.68602681 37.10254883 90.78838456 94.82227863\n",
      " 88.64579093 95.86636219 39.62174651 56.37321107 18.85044723 20.61521122\n",
      " 54.07874721  1.48589478 71.4161475  26.28790033 11.26255039  2.89665343\n",
      " 92.07429734 88.53820684 79.47762093 76.05019671 58.77207546 96.77803244\n",
      " 76.84381146 90.64272489 68.75817298 34.84423791 19.03779936 89.26232881\n",
      " 13.4315969  63.85093801 83.17062696 52.72916002 78.95766704 39.86464358\n",
      " 64.78518586 79.88340715 34.54720789 48.93886955 16.19993961 78.4403281\n",
      " 66.40015514 40.29896658 43.58079995 67.89960738  2.36063393 38.41736006\n",
      " 40.12615177  7.1226224  61.84013715  2.87786539 37.18816444  4.09872944\n",
      " 24.7130553  80.37155562 39.40288378  6.35694794 76.25471317 26.471883\n",
      " 51.27081006 36.53748858 17.51453723 95.11656236 28.02386257 52.58367833\n",
      " 27.79459056 58.31421196  4.27015804 47.27576695 13.30912948 47.41427389\n",
      " 69.29265933 27.38611216 82.83426545 11.64105981]\n",
      "[95.70483264]\n",
      "\n",
      "El valor más cercano en el array es: 95.86636218963406\n"
     ]
    }
   ],
   "source": [
    "ar = np.random.random(100)*100\n",
    "print(ar)\n",
    "num = np.random.random(1)*100\n",
    "print(num)\n",
    "# Encontrar las diferencias absolutas entre el número aleatorio y los valores del array\n",
    "diferencias = np.abs(ar - num)\n",
    "\n",
    "# Encontrar el índice del valor más cercano\n",
    "indice_valor_cercano = np.argmin(diferencias)\n",
    "\n",
    "# Obtener el valor más cercano en el array\n",
    "valor_cercano = ar[indice_valor_cercano]\n",
    "\n",
    "print(\"\\nEl valor más cercano en el array es:\", valor_cercano)"
   ]
  },
  {
   "cell_type": "code",
   "execution_count": null,
   "metadata": {},
   "outputs": [],
   "source": []
  }
 ],
 "metadata": {
  "kernelspec": {
   "display_name": "mi_entorno",
   "language": "python",
   "name": "python3"
  },
  "language_info": {
   "codemirror_mode": {
    "name": "ipython",
    "version": 3
   },
   "file_extension": ".py",
   "mimetype": "text/x-python",
   "name": "python",
   "nbconvert_exporter": "python",
   "pygments_lexer": "ipython3",
   "version": "3.9.6"
  }
 },
 "nbformat": 4,
 "nbformat_minor": 2
}
